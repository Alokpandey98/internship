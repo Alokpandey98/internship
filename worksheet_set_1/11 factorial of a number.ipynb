{
 "cells": [
  {
   "cell_type": "markdown",
   "id": "12ce345e",
   "metadata": {},
   "source": [
    "# factorial of a number "
   ]
  },
  {
   "cell_type": "code",
   "execution_count": 1,
   "id": "2ce02f98",
   "metadata": {},
   "outputs": [
    {
     "name": "stdout",
     "output_type": "stream",
     "text": [
      "enter number:5\n",
      "factorial number is:  1\n",
      "factorial number is:  2\n",
      "factorial number is:  6\n",
      "factorial number is:  24\n",
      "factorial number is:  120\n"
     ]
    }
   ],
   "source": [
    "num = int(input(\"enter number:\"))\n",
    "fact = 1\n",
    "for i in range(1,num+1):\n",
    "    fact = fact*i\n",
    "    print(\"factorial number is: \", fact)"
   ]
  },
  {
   "cell_type": "code",
   "execution_count": null,
   "id": "2e19c688",
   "metadata": {},
   "outputs": [],
   "source": []
  },
  {
   "cell_type": "code",
   "execution_count": null,
   "id": "489c7a8a",
   "metadata": {},
   "outputs": [],
   "source": []
  }
 ],
 "metadata": {
  "kernelspec": {
   "display_name": "Python 3 (ipykernel)",
   "language": "python",
   "name": "python3"
  },
  "language_info": {
   "codemirror_mode": {
    "name": "ipython",
    "version": 3
   },
   "file_extension": ".py",
   "mimetype": "text/x-python",
   "name": "python",
   "nbconvert_exporter": "python",
   "pygments_lexer": "ipython3",
   "version": "3.10.9"
  }
 },
 "nbformat": 4,
 "nbformat_minor": 5
}
