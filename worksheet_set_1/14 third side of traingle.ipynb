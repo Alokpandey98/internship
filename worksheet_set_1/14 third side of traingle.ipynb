{
 "cells": [
  {
   "cell_type": "markdown",
   "id": "00b9763d",
   "metadata": {},
   "source": [
    "#  get the third side of right-angled triangle from two given sides."
   ]
  },
  {
   "cell_type": "code",
   "execution_count": 2,
   "id": "592d7c50",
   "metadata": {},
   "outputs": [
    {
     "name": "stdout",
     "output_type": "stream",
     "text": [
      "Enter the length of the 1st side: 6\n",
      "Enter the length of the 2nd side: 8\n",
      "The length of the 3rd side is: 10.0\n"
     ]
    }
   ],
   "source": [
    "def get_third_side(side1, side2):\n",
    "    #pythagores theorem\n",
    "    third_side = (side1**2 + side2**2)**0.5\n",
    "    return third_side\n",
    "\n",
    "\n",
    "side1 = float(input(\"Enter the length of the 1st side: \"))\n",
    "side2 = float(input(\"Enter the length of the 2nd side: \"))\n",
    "\n",
    "\n",
    "third_side = get_third_side(side1, side2)\n",
    "\n",
    "\n",
    "print(f\"The length of the 3rd side is: {third_side}\")"
   ]
  },
  {
   "cell_type": "code",
   "execution_count": null,
   "id": "1db9893d",
   "metadata": {},
   "outputs": [],
   "source": []
  }
 ],
 "metadata": {
  "kernelspec": {
   "display_name": "Python 3 (ipykernel)",
   "language": "python",
   "name": "python3"
  },
  "language_info": {
   "codemirror_mode": {
    "name": "ipython",
    "version": 3
   },
   "file_extension": ".py",
   "mimetype": "text/x-python",
   "name": "python",
   "nbconvert_exporter": "python",
   "pygments_lexer": "ipython3",
   "version": "3.10.9"
  }
 },
 "nbformat": 4,
 "nbformat_minor": 5
}
