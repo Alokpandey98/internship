{
 "cells": [
  {
   "cell_type": "code",
   "execution_count": 16,
   "id": "ce25219b",
   "metadata": {},
   "outputs": [],
   "source": [
    "import selenium\n",
    "import pandas as pd\n",
    "from selenium import webdriver\n",
    "import warnings\n",
    "warnings.filterwarnings('ignore')\n",
    "from selenium.webdriver.common.by import By\n",
    "import time"
   ]
  },
  {
   "cell_type": "code",
   "execution_count": 17,
   "id": "7c58499c",
   "metadata": {},
   "outputs": [],
   "source": [
    "driver=webdriver.Chrome()"
   ]
  },
  {
   "cell_type": "code",
   "execution_count": 18,
   "id": "149d165e",
   "metadata": {},
   "outputs": [],
   "source": [
    "driver.get(\"https://www.jagranjosh.com/\")"
   ]
  },
  {
   "cell_type": "code",
   "execution_count": 13,
   "id": "0144b8d1",
   "metadata": {},
   "outputs": [],
   "source": [
    "gk_tab=driver.find_element(By.XPATH,'/html/body/div/header/nav/div/div/div[3]/ul/li[3]/a')\n",
    "gk_tab.click()"
   ]
  },
  {
   "cell_type": "code",
   "execution_count": 14,
   "id": "854b6cdc",
   "metadata": {},
   "outputs": [],
   "source": [
    "click_button=driver.find_element(By.XPATH,'/html/body/div[1]/div[8]/section[5]/div[1]/span/a')\n",
    "click_button.click()"
   ]
  },
  {
   "cell_type": "code",
   "execution_count": 15,
   "id": "c4c26cd6",
   "metadata": {},
   "outputs": [],
   "source": [
    "click_button=driver.find_element(By.XPATH,'/html/body/div[1]/main/div[1]/div[1]/section[2]/div/ul/li[9]/article/h3/a')\n",
    "click_button.click()"
   ]
  },
  {
   "cell_type": "code",
   "execution_count": null,
   "id": "ef1d6ac1",
   "metadata": {},
   "outputs": [],
   "source": []
  }
 ],
 "metadata": {
  "kernelspec": {
   "display_name": "Python 3 (ipykernel)",
   "language": "python",
   "name": "python3"
  },
  "language_info": {
   "codemirror_mode": {
    "name": "ipython",
    "version": 3
   },
   "file_extension": ".py",
   "mimetype": "text/x-python",
   "name": "python",
   "nbconvert_exporter": "python",
   "pygments_lexer": "ipython3",
   "version": "3.10.9"
  }
 },
 "nbformat": 4,
 "nbformat_minor": 5
}
