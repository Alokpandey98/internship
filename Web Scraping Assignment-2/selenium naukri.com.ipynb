{
 "cells": [
  {
   "cell_type": "markdown",
   "id": "e99c1be5",
   "metadata": {},
   "source": [
    "scrape data from naukari.com website for Data analyst job role for banglore location.we will scrape 4 fields\n",
    "1)job titles 2)company name 3)location of job 4)experience requiored."
   ]
  },
  {
   "cell_type": "code",
   "execution_count": 55,
   "id": "c034d7d5",
   "metadata": {},
   "outputs": [
    {
     "name": "stdout",
     "output_type": "stream",
     "text": [
      "Requirement already satisfied: selenium in c:\\users\\alfa\\anaconda3\\lib\\site-packages (4.16.0)\n",
      "Requirement already satisfied: trio~=0.17 in c:\\users\\alfa\\anaconda3\\lib\\site-packages (from selenium) (0.24.0)\n",
      "Requirement already satisfied: urllib3[socks]<3,>=1.26 in c:\\users\\alfa\\anaconda3\\lib\\site-packages (from selenium) (1.26.14)\n",
      "Requirement already satisfied: trio-websocket~=0.9 in c:\\users\\alfa\\anaconda3\\lib\\site-packages (from selenium) (0.11.1)\n",
      "Requirement already satisfied: certifi>=2021.10.8 in c:\\users\\alfa\\anaconda3\\lib\\site-packages (from selenium) (2022.12.7)\n",
      "Requirement already satisfied: cffi>=1.14 in c:\\users\\alfa\\anaconda3\\lib\\site-packages (from trio~=0.17->selenium) (1.15.1)\n",
      "Requirement already satisfied: exceptiongroup in c:\\users\\alfa\\anaconda3\\lib\\site-packages (from trio~=0.17->selenium) (1.2.0)\n",
      "Requirement already satisfied: sniffio>=1.3.0 in c:\\users\\alfa\\anaconda3\\lib\\site-packages (from trio~=0.17->selenium) (1.3.0)\n",
      "Requirement already satisfied: outcome in c:\\users\\alfa\\anaconda3\\lib\\site-packages (from trio~=0.17->selenium) (1.3.0.post0)\n",
      "Requirement already satisfied: sortedcontainers in c:\\users\\alfa\\anaconda3\\lib\\site-packages (from trio~=0.17->selenium) (2.4.0)\n",
      "Requirement already satisfied: attrs>=20.1.0 in c:\\users\\alfa\\anaconda3\\lib\\site-packages (from trio~=0.17->selenium) (22.1.0)\n",
      "Requirement already satisfied: idna in c:\\users\\alfa\\anaconda3\\lib\\site-packages (from trio~=0.17->selenium) (3.4)\n",
      "Requirement already satisfied: wsproto>=0.14 in c:\\users\\alfa\\anaconda3\\lib\\site-packages (from trio-websocket~=0.9->selenium) (1.2.0)\n",
      "Requirement already satisfied: PySocks!=1.5.7,<2.0,>=1.5.6 in c:\\users\\alfa\\anaconda3\\lib\\site-packages (from urllib3[socks]<3,>=1.26->selenium) (1.7.1)\n",
      "Requirement already satisfied: pycparser in c:\\users\\alfa\\anaconda3\\lib\\site-packages (from cffi>=1.14->trio~=0.17->selenium) (2.21)\n",
      "Requirement already satisfied: h11<1,>=0.9.0 in c:\\users\\alfa\\anaconda3\\lib\\site-packages (from wsproto>=0.14->trio-websocket~=0.9->selenium) (0.14.0)\n"
     ]
    }
   ],
   "source": [
    "!pip install selenium"
   ]
  },
  {
   "cell_type": "code",
   "execution_count": 56,
   "id": "7aabbed9",
   "metadata": {},
   "outputs": [],
   "source": [
    "import selenium\n",
    "import pandas as pd\n",
    "from selenium import webdriver\n",
    "import warnings\n",
    "warnings.filterwarnings('ignore')\n",
    "from selenium.webdriver.common.by import By\n",
    "import time\n"
   ]
  },
  {
   "cell_type": "code",
   "execution_count": 57,
   "id": "9c306dd6",
   "metadata": {},
   "outputs": [],
   "source": [
    "driver=webdriver.Chrome()"
   ]
  },
  {
   "cell_type": "code",
   "execution_count": 58,
   "id": "075885ef",
   "metadata": {},
   "outputs": [],
   "source": [
    "#opening the naukari page  on automated chrome browser\n",
    "driver.get(\"https://www.naukri.com/\")"
   ]
  },
  {
   "cell_type": "code",
   "execution_count": 59,
   "id": "565030d2",
   "metadata": {},
   "outputs": [],
   "source": [
    "#entering destination  and location as required in question\n",
    "designation=driver.find_element(By.CLASS_NAME,\"suggestor-input\")\n",
    "designation.send_keys('Data Scientist')"
   ]
  },
  {
   "cell_type": "code",
   "execution_count": 60,
   "id": "d56cdd16",
   "metadata": {},
   "outputs": [],
   "source": [
    "location=driver.find_element(By.XPATH,\"/html/body/div[1]/div[7]/div/div/div[5]/div/div/div/div[1]/div/input\")\n",
    "location.send_keys('Bangalore')"
   ]
  },
  {
   "cell_type": "code",
   "execution_count": 61,
   "id": "9bd8b095",
   "metadata": {},
   "outputs": [],
   "source": [
    "search=driver.find_element(By.CLASS_NAME,\"qsbSubmit\")\n",
    "search.click()"
   ]
  },
  {
   "cell_type": "code",
   "execution_count": 62,
   "id": "4803d1ec",
   "metadata": {},
   "outputs": [],
   "source": [
    "job_title=[]\n",
    "job_location=[]\n",
    "company_name=[]\n",
    "experience_required=[]"
   ]
  },
  {
   "cell_type": "code",
   "execution_count": 63,
   "id": "7d3c97dd",
   "metadata": {},
   "outputs": [],
   "source": [
    "#scraping job titles from the given page\n",
    "title_tags=driver.find_elements(By.XPATH,'//div[@class=\"cust-job-tuple layout-wrapper lay-2 sjw__tuple \"]/div/a')\n",
    "for i in title_tags:\n",
    "    title=i.text\n",
    "    job_title.append(title)\n",
    "    \n",
    "#scraping job location from the given page\n",
    "location_tags=driver.find_elements(By.XPATH,'//span[@class=\"ni-job-tuple-icon ni-job-tuple-icon-srp-location loc\"]')\n",
    "for i in location_tags:\n",
    "    location=i.text\n",
    "    job_location.append(location)\n",
    "    \n",
    "#scraping company name from given page\n",
    "company_tags=driver.find_elements(By.XPATH,'//span[@class=\" comp-dtls-wrap\"]/a[1]')\n",
    "for i in company_tags:\n",
    "    company=i.text\n",
    "    company_name.append(company)\n",
    "    \n",
    "#scraping job experience from the given page\n",
    "experience_tags=driver.find_elements(By.XPATH,'//span[@class=\"expwdth\"]')\n",
    "for i in experience_tags:\n",
    "    exp=i.text\n",
    "    experience_required.append(exp)\n",
    "\n"
   ]
  },
  {
   "cell_type": "code",
   "execution_count": 64,
   "id": "f558cef1",
   "metadata": {},
   "outputs": [
    {
     "name": "stdout",
     "output_type": "stream",
     "text": [
      "20 20 20 20\n"
     ]
    }
   ],
   "source": [
    "print (len(job_title),len(job_location),len(company_name),len(experience_required))"
   ]
  },
  {
   "cell_type": "code",
   "execution_count": 65,
   "id": "de7f57d7",
   "metadata": {},
   "outputs": [],
   "source": [
    "import pandas as pd"
   ]
  },
  {
   "cell_type": "code",
   "execution_count": 66,
   "id": "accbee42",
   "metadata": {},
   "outputs": [
    {
     "data": {
      "text/html": [
       "<div>\n",
       "<style scoped>\n",
       "    .dataframe tbody tr th:only-of-type {\n",
       "        vertical-align: middle;\n",
       "    }\n",
       "\n",
       "    .dataframe tbody tr th {\n",
       "        vertical-align: top;\n",
       "    }\n",
       "\n",
       "    .dataframe thead th {\n",
       "        text-align: right;\n",
       "    }\n",
       "</style>\n",
       "<table border=\"1\" class=\"dataframe\">\n",
       "  <thead>\n",
       "    <tr style=\"text-align: right;\">\n",
       "      <th></th>\n",
       "      <th>Title</th>\n",
       "      <th>Location</th>\n",
       "      <th>company_name</th>\n",
       "      <th>Experience</th>\n",
       "    </tr>\n",
       "  </thead>\n",
       "  <tbody>\n",
       "    <tr>\n",
       "      <th>0</th>\n",
       "      <td>Senior Data Scientist, Reporting</td>\n",
       "      <td>Bangalore/Bengaluru, Kolkata, Mumbai, New Delh...</td>\n",
       "      <td>Coursera</td>\n",
       "      <td>6-7 Yrs</td>\n",
       "    </tr>\n",
       "    <tr>\n",
       "      <th>1</th>\n",
       "      <td>GenAI Data Scientist</td>\n",
       "      <td>Bangalore/Bengaluru, Kolkata, Mumbai, New Delh...</td>\n",
       "      <td>Ford</td>\n",
       "      <td>5-6 Yrs</td>\n",
       "    </tr>\n",
       "    <tr>\n",
       "      <th>2</th>\n",
       "      <td>Principal Data Scientist</td>\n",
       "      <td>Bangalore/Bengaluru</td>\n",
       "      <td>Scaler Academy</td>\n",
       "      <td>6-12 Yrs</td>\n",
       "    </tr>\n",
       "    <tr>\n",
       "      <th>3</th>\n",
       "      <td>Data Scientist III</td>\n",
       "      <td>Bangalore/Bengaluru</td>\n",
       "      <td>Walmart</td>\n",
       "      <td>5-9 Yrs</td>\n",
       "    </tr>\n",
       "    <tr>\n",
       "      <th>4</th>\n",
       "      <td>Data Scientist</td>\n",
       "      <td>Bangalore/Bengaluru, Kolkata, Mumbai, New Delh...</td>\n",
       "      <td>Response Informatics</td>\n",
       "      <td>4-7 Yrs</td>\n",
       "    </tr>\n",
       "    <tr>\n",
       "      <th>5</th>\n",
       "      <td>Principal Data Scientist</td>\n",
       "      <td>Bangalore/Bengaluru, Kolkata, Mumbai, New Delh...</td>\n",
       "      <td>Response Informatics</td>\n",
       "      <td>12-15 Yrs</td>\n",
       "    </tr>\n",
       "    <tr>\n",
       "      <th>6</th>\n",
       "      <td>Lead Data Scientist-NLP,Generative AI</td>\n",
       "      <td>Bangalore/Bengaluru, Kolkata, Mumbai, New Delh...</td>\n",
       "      <td>Response Informatics</td>\n",
       "      <td>5-10 Yrs</td>\n",
       "    </tr>\n",
       "    <tr>\n",
       "      <th>7</th>\n",
       "      <td>Lead Data Scientist</td>\n",
       "      <td>Bangalore/Bengaluru, Kolkata, Mumbai, New Delh...</td>\n",
       "      <td>Response Informatics</td>\n",
       "      <td>7-12 Yrs</td>\n",
       "    </tr>\n",
       "    <tr>\n",
       "      <th>8</th>\n",
       "      <td>Lotus Interworks - Data Scientist</td>\n",
       "      <td>Bangalore/Bengaluru, Kolkata, Mumbai, Hyderaba...</td>\n",
       "      <td>Lotus Interworks Inc</td>\n",
       "      <td>1-5 Yrs</td>\n",
       "    </tr>\n",
       "    <tr>\n",
       "      <th>9</th>\n",
       "      <td>Data Scientist</td>\n",
       "      <td>Hybrid - Bangalore/Bengaluru, Noida, Pune</td>\n",
       "      <td>Axtria</td>\n",
       "      <td>4-8 Yrs</td>\n",
       "    </tr>\n",
       "    <tr>\n",
       "      <th>10</th>\n",
       "      <td>AI Engineer</td>\n",
       "      <td>Bangalore/Bengaluru</td>\n",
       "      <td>IBM</td>\n",
       "      <td>4-8 Yrs</td>\n",
       "    </tr>\n",
       "    <tr>\n",
       "      <th>11</th>\n",
       "      <td>Data Scientist</td>\n",
       "      <td>Bangalore/Bengaluru</td>\n",
       "      <td>IBM</td>\n",
       "      <td>3-6 Yrs</td>\n",
       "    </tr>\n",
       "    <tr>\n",
       "      <th>12</th>\n",
       "      <td>Senior Data Scientist</td>\n",
       "      <td>Bangalore/Bengaluru, Kolkata, Mumbai, New Delh...</td>\n",
       "      <td>Sophos</td>\n",
       "      <td>4-9 Yrs</td>\n",
       "    </tr>\n",
       "    <tr>\n",
       "      <th>13</th>\n",
       "      <td>Data Scientist</td>\n",
       "      <td>Bangalore/Bengaluru, Kolkata, Mumbai, New Delh...</td>\n",
       "      <td>Windmill</td>\n",
       "      <td>3-8 Yrs</td>\n",
       "    </tr>\n",
       "    <tr>\n",
       "      <th>14</th>\n",
       "      <td>Senior Data Scientist, SCM</td>\n",
       "      <td>Bangalore/Bengaluru, Kolkata, Mumbai, New Delh...</td>\n",
       "      <td>Neem Consulting Limited</td>\n",
       "      <td>4-9 Yrs</td>\n",
       "    </tr>\n",
       "    <tr>\n",
       "      <th>15</th>\n",
       "      <td>Data Scientist I</td>\n",
       "      <td>Bangalore/Bengaluru, Kolkata, Mumbai, New Delh...</td>\n",
       "      <td>Elitefit.ai</td>\n",
       "      <td>0-4 Yrs</td>\n",
       "    </tr>\n",
       "    <tr>\n",
       "      <th>16</th>\n",
       "      <td>Data Analytics-Corporate HR</td>\n",
       "      <td>Bangalore/Bengaluru, Kolkata, Mumbai, New Delh...</td>\n",
       "      <td>Tata Communications</td>\n",
       "      <td>3-6 Yrs</td>\n",
       "    </tr>\n",
       "    <tr>\n",
       "      <th>17</th>\n",
       "      <td>Data Scientist</td>\n",
       "      <td>Bangalore/Bengaluru, Kolkata, Mumbai, Chennai</td>\n",
       "      <td>Financial Software Systems</td>\n",
       "      <td>2-3 Yrs</td>\n",
       "    </tr>\n",
       "    <tr>\n",
       "      <th>18</th>\n",
       "      <td>Data Scientist-Immediate Joiner-L1(HAckerrank)</td>\n",
       "      <td>Hybrid - Hyderabad, Chennai, Bengaluru</td>\n",
       "      <td>Altimetrik</td>\n",
       "      <td>5-8 Yrs</td>\n",
       "    </tr>\n",
       "    <tr>\n",
       "      <th>19</th>\n",
       "      <td>Senior Data Scientist (MLE)</td>\n",
       "      <td>Bangalore/Bengaluru</td>\n",
       "      <td>Walmart</td>\n",
       "      <td>5-8 Yrs</td>\n",
       "    </tr>\n",
       "  </tbody>\n",
       "</table>\n",
       "</div>"
      ],
      "text/plain": [
       "                                             Title  \\\n",
       "0                 Senior Data Scientist, Reporting   \n",
       "1                             GenAI Data Scientist   \n",
       "2                         Principal Data Scientist   \n",
       "3                               Data Scientist III   \n",
       "4                                   Data Scientist   \n",
       "5                         Principal Data Scientist   \n",
       "6            Lead Data Scientist-NLP,Generative AI   \n",
       "7                              Lead Data Scientist   \n",
       "8                Lotus Interworks - Data Scientist   \n",
       "9                                   Data Scientist   \n",
       "10                                     AI Engineer   \n",
       "11                                  Data Scientist   \n",
       "12                           Senior Data Scientist   \n",
       "13                                  Data Scientist   \n",
       "14                      Senior Data Scientist, SCM   \n",
       "15                                Data Scientist I   \n",
       "16                     Data Analytics-Corporate HR   \n",
       "17                                  Data Scientist   \n",
       "18  Data Scientist-Immediate Joiner-L1(HAckerrank)   \n",
       "19                     Senior Data Scientist (MLE)   \n",
       "\n",
       "                                             Location  \\\n",
       "0   Bangalore/Bengaluru, Kolkata, Mumbai, New Delh...   \n",
       "1   Bangalore/Bengaluru, Kolkata, Mumbai, New Delh...   \n",
       "2                                 Bangalore/Bengaluru   \n",
       "3                                 Bangalore/Bengaluru   \n",
       "4   Bangalore/Bengaluru, Kolkata, Mumbai, New Delh...   \n",
       "5   Bangalore/Bengaluru, Kolkata, Mumbai, New Delh...   \n",
       "6   Bangalore/Bengaluru, Kolkata, Mumbai, New Delh...   \n",
       "7   Bangalore/Bengaluru, Kolkata, Mumbai, New Delh...   \n",
       "8   Bangalore/Bengaluru, Kolkata, Mumbai, Hyderaba...   \n",
       "9           Hybrid - Bangalore/Bengaluru, Noida, Pune   \n",
       "10                                Bangalore/Bengaluru   \n",
       "11                                Bangalore/Bengaluru   \n",
       "12  Bangalore/Bengaluru, Kolkata, Mumbai, New Delh...   \n",
       "13  Bangalore/Bengaluru, Kolkata, Mumbai, New Delh...   \n",
       "14  Bangalore/Bengaluru, Kolkata, Mumbai, New Delh...   \n",
       "15  Bangalore/Bengaluru, Kolkata, Mumbai, New Delh...   \n",
       "16  Bangalore/Bengaluru, Kolkata, Mumbai, New Delh...   \n",
       "17      Bangalore/Bengaluru, Kolkata, Mumbai, Chennai   \n",
       "18             Hybrid - Hyderabad, Chennai, Bengaluru   \n",
       "19                                Bangalore/Bengaluru   \n",
       "\n",
       "                  company_name Experience  \n",
       "0                     Coursera    6-7 Yrs  \n",
       "1                         Ford    5-6 Yrs  \n",
       "2               Scaler Academy   6-12 Yrs  \n",
       "3                      Walmart    5-9 Yrs  \n",
       "4         Response Informatics    4-7 Yrs  \n",
       "5         Response Informatics  12-15 Yrs  \n",
       "6         Response Informatics   5-10 Yrs  \n",
       "7         Response Informatics   7-12 Yrs  \n",
       "8         Lotus Interworks Inc    1-5 Yrs  \n",
       "9                       Axtria    4-8 Yrs  \n",
       "10                         IBM    4-8 Yrs  \n",
       "11                         IBM    3-6 Yrs  \n",
       "12                      Sophos    4-9 Yrs  \n",
       "13                    Windmill    3-8 Yrs  \n",
       "14     Neem Consulting Limited    4-9 Yrs  \n",
       "15                 Elitefit.ai    0-4 Yrs  \n",
       "16         Tata Communications    3-6 Yrs  \n",
       "17  Financial Software Systems    2-3 Yrs  \n",
       "18                  Altimetrik    5-8 Yrs  \n",
       "19                     Walmart    5-8 Yrs  "
      ]
     },
     "execution_count": 66,
     "metadata": {},
     "output_type": "execute_result"
    }
   ],
   "source": [
    "df = pd.DataFrame({'Title':job_title,'Location':job_location,'company_name':company_name,'Experience':experience_required})\n",
    "df\n",
    "\n",
    "\n"
   ]
  },
  {
   "cell_type": "code",
   "execution_count": 27,
   "id": "01a0652f",
   "metadata": {},
   "outputs": [
    {
     "data": {
      "text/plain": [
       "[<selenium.webdriver.remote.webelement.WebElement (session=\"bc12e339185394dbaf766855691fd07b\", element=\"D173DBDA6ADD54EA1BDDE5EBA496C1AE_element_81\")>,\n",
       " <selenium.webdriver.remote.webelement.WebElement (session=\"bc12e339185394dbaf766855691fd07b\", element=\"D173DBDA6ADD54EA1BDDE5EBA496C1AE_element_82\")>,\n",
       " <selenium.webdriver.remote.webelement.WebElement (session=\"bc12e339185394dbaf766855691fd07b\", element=\"D173DBDA6ADD54EA1BDDE5EBA496C1AE_element_83\")>,\n",
       " <selenium.webdriver.remote.webelement.WebElement (session=\"bc12e339185394dbaf766855691fd07b\", element=\"D173DBDA6ADD54EA1BDDE5EBA496C1AE_element_84\")>]"
      ]
     },
     "execution_count": 27,
     "metadata": {},
     "output_type": "execute_result"
    }
   ],
   "source": [
    "#to fetch the url\n",
    "url=driver.find_elements(By.XPATH,'//a[@class=\"title \"]')\n",
    "url[0:4]"
   ]
  },
  {
   "cell_type": "code",
   "execution_count": 32,
   "id": "153d9b29",
   "metadata": {},
   "outputs": [
    {
     "name": "stdout",
     "output_type": "stream",
     "text": [
      "https://www.naukri.com/job-listings-senior-data-scientist-reporting-coursera-kolkata-mumbai-new-delhi-hyderabad-secunderabad-pune-chennai-bangalore-bengaluru-6-to-7-years-220124502188\n",
      "https://www.naukri.com/job-listings-genai-data-scientist-ford-global-business-services-kolkata-mumbai-new-delhi-hyderabad-secunderabad-pune-chennai-bangalore-bengaluru-5-to-6-years-101123500520\n",
      "https://www.naukri.com/job-listings-principal-data-scientist-scaler-academy-bangalore-bengaluru-6-to-12-years-220124502449\n",
      "None\n",
      "None\n",
      "None\n",
      "None\n",
      "None\n"
     ]
    }
   ],
   "source": [
    "for i in url[0:8]:   #lets provide range to print only top 4 data\n",
    "    print(i.get_attribute('href'))"
   ]
  },
  {
   "cell_type": "code",
   "execution_count": null,
   "id": "6f75d5f0",
   "metadata": {},
   "outputs": [],
   "source": []
  },
  {
   "cell_type": "code",
   "execution_count": 40,
   "id": "e64a7598",
   "metadata": {},
   "outputs": [],
   "source": [
    "job_titles=[] #find all 3  page of job titles"
   ]
  },
  {
   "cell_type": "code",
   "execution_count": 41,
   "id": "e5564e75",
   "metadata": {},
   "outputs": [],
   "source": [
    "start=0\n",
    "end=3\n",
    "for page in range(start,end):\n",
    "    \n",
    "    title_tags=driver.find_elements(By.XPATH,'//div[@class=\"cust-job-tuple layout-wrapper lay-2 sjw__tuple \"]/div/a')\n",
    "    for i in title_tags:\n",
    "        title=i.text\n",
    "        job_titles.append(title)\n",
    "        \n",
    "next_button=driver.find_element(By.XPATH,'/html/body/div/div/main/div[1]/div[2]/div[3]/div/a[2]') #to scrape from next button\n",
    "next_button.click()\n",
    "time.sleep(3)"
   ]
  },
  {
   "cell_type": "code",
   "execution_count": 42,
   "id": "109181d6",
   "metadata": {},
   "outputs": [
    {
     "data": {
      "text/plain": [
       "['Data Scientist - Credit Card',\n",
       " 'Data Scientist: Artificial Intelligence',\n",
       " 'Data Scientist: Artificial Intelligence',\n",
       " 'Data Scientist',\n",
       " 'Senior Data Scientist',\n",
       " 'Data Scientist (Analytic Engineer)',\n",
       " 'Data Scientist',\n",
       " 'Staff Data Scientist',\n",
       " 'Advanced Data Scientist',\n",
       " 'Data Scientist: Artificial Intelligence',\n",
       " 'Data Scientist: Artificial Intelligence',\n",
       " 'Data Scientist',\n",
       " 'Data Scientist',\n",
       " 'Data Scientist - AI/ML',\n",
       " 'Data Scientist',\n",
       " 'Data Scientist',\n",
       " 'Staff data scientist',\n",
       " 'Staff Data Scientist',\n",
       " 'Data Scientist - Image Processing',\n",
       " 'Data Scientist II',\n",
       " 'Data Scientist - Credit Card',\n",
       " 'Data Scientist: Artificial Intelligence',\n",
       " 'Data Scientist: Artificial Intelligence',\n",
       " 'Data Scientist',\n",
       " 'Senior Data Scientist',\n",
       " 'Data Scientist (Analytic Engineer)',\n",
       " 'Data Scientist',\n",
       " 'Staff Data Scientist',\n",
       " 'Advanced Data Scientist',\n",
       " 'Data Scientist: Artificial Intelligence',\n",
       " 'Data Scientist: Artificial Intelligence',\n",
       " 'Data Scientist',\n",
       " 'Data Scientist',\n",
       " 'Data Scientist - AI/ML',\n",
       " 'Data Scientist',\n",
       " 'Data Scientist',\n",
       " 'Staff data scientist',\n",
       " 'Staff Data Scientist',\n",
       " 'Data Scientist - Image Processing',\n",
       " 'Data Scientist II',\n",
       " 'Data Scientist - Credit Card',\n",
       " 'Data Scientist: Artificial Intelligence',\n",
       " 'Data Scientist: Artificial Intelligence',\n",
       " 'Data Scientist',\n",
       " 'Senior Data Scientist',\n",
       " 'Data Scientist (Analytic Engineer)',\n",
       " 'Data Scientist',\n",
       " 'Staff Data Scientist',\n",
       " 'Advanced Data Scientist',\n",
       " 'Data Scientist: Artificial Intelligence',\n",
       " 'Data Scientist: Artificial Intelligence',\n",
       " 'Data Scientist',\n",
       " 'Data Scientist',\n",
       " 'Data Scientist - AI/ML',\n",
       " 'Data Scientist',\n",
       " 'Data Scientist',\n",
       " 'Staff data scientist',\n",
       " 'Staff Data Scientist',\n",
       " 'Data Scientist - Image Processing',\n",
       " 'Data Scientist II']"
      ]
     },
     "execution_count": 42,
     "metadata": {},
     "output_type": "execute_result"
    }
   ],
   "source": [
    "job_titles"
   ]
  },
  {
   "cell_type": "code",
   "execution_count": 43,
   "id": "f86aca7f",
   "metadata": {},
   "outputs": [
    {
     "data": {
      "text/plain": [
       "60"
      ]
     },
     "execution_count": 43,
     "metadata": {},
     "output_type": "execute_result"
    }
   ],
   "source": [
    "len(job_titles)"
   ]
  },
  {
   "cell_type": "code",
   "execution_count": null,
   "id": "ad68f01e",
   "metadata": {},
   "outputs": [],
   "source": []
  }
 ],
 "metadata": {
  "kernelspec": {
   "display_name": "Python 3 (ipykernel)",
   "language": "python",
   "name": "python3"
  },
  "language_info": {
   "codemirror_mode": {
    "name": "ipython",
    "version": 3
   },
   "file_extension": ".py",
   "mimetype": "text/x-python",
   "name": "python",
   "nbconvert_exporter": "python",
   "pygments_lexer": "ipython3",
   "version": "3.10.9"
  }
 },
 "nbformat": 4,
 "nbformat_minor": 5
}
