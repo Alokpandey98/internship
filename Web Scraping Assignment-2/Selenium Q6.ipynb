{
 "cells": [
  {
   "cell_type": "code",
   "execution_count": 2,
   "id": "2efa09f8",
   "metadata": {},
   "outputs": [],
   "source": [
    "import selenium\n",
    "import pandas as pd\n",
    "from selenium import webdriver\n",
    "import warnings\n",
    "warnings.filterwarnings('ignore')\n",
    "from selenium.webdriver.common.by import By\n",
    "import time"
   ]
  },
  {
   "cell_type": "code",
   "execution_count": 3,
   "id": "edb727d4",
   "metadata": {},
   "outputs": [],
   "source": [
    "driver=webdriver.Chrome()"
   ]
  },
  {
   "cell_type": "code",
   "execution_count": 4,
   "id": "14fda415",
   "metadata": {},
   "outputs": [],
   "source": [
    "driver.get(\"https://www.flipkart.com/\")"
   ]
  },
  {
   "cell_type": "code",
   "execution_count": 5,
   "id": "99f171fa",
   "metadata": {},
   "outputs": [],
   "source": [
    "#entering sneakers as required in question\n",
    "search=driver.find_element(By.CLASS_NAME,\"Pke_EE\" )\n",
    "search.send_keys('sneakers')"
   ]
  },
  {
   "cell_type": "code",
   "execution_count": 16,
   "id": "1db94a5c",
   "metadata": {},
   "outputs": [],
   "source": [
    "search_button=driver.find_element(By.CLASS_NAME,\"_2iLD__\")\n",
    "search_button.click()\n",
    "search_button.click()"
   ]
  },
  {
   "cell_type": "code",
   "execution_count": 17,
   "id": "1eb853d9",
   "metadata": {},
   "outputs": [],
   "source": [
    "brand_name=[]\n",
    "product_des=[]\n",
    "product_price=[]"
   ]
  },
  {
   "cell_type": "code",
   "execution_count": 28,
   "id": "b62c7e25",
   "metadata": {},
   "outputs": [],
   "source": [
    "for i in range(3):\n",
    "\n",
    "\n",
    "#scraping brand name\n",
    " brand_tag=driver.find_elements(By.XPATH,'//div[@class=\"_2WkVRV\"]')\n",
    "for i in brand_tag:\n",
    "    brand=i.text\n",
    "    brand_name.append(brand)\n",
    "    brand_name[:100]\n",
    "    \n",
    "    \n",
    "#scrape product description\n",
    "product_tag=driver.find_elements(By.XPATH,'//a[@class=\"IRpwTa\"]') \n",
    "for i in product_tag:\n",
    "    product=i.text\n",
    "    product_des.append(product)\n",
    "    product_des[:100]\n",
    "    \n",
    "    \n",
    "#scrape product price\n",
    "price_tag=driver.find_elements(By.XPATH,'//div[@class=\"_30jeq3\"]')\n",
    "for i in price_tag:\n",
    "    price=i.text\n",
    "    product_price.append(price)\n",
    "    product_price[:100]\n",
    "    "
   ]
  },
  {
   "cell_type": "code",
   "execution_count": 29,
   "id": "a9d724c9",
   "metadata": {},
   "outputs": [
    {
     "name": "stdout",
     "output_type": "stream",
     "text": [
      "100\n"
     ]
    }
   ],
   "source": [
    "print(len(brand_name[:100]))"
   ]
  },
  {
   "cell_type": "code",
   "execution_count": 30,
   "id": "70c3c902",
   "metadata": {},
   "outputs": [],
   "source": [
    "import pandas as pd"
   ]
  },
  {
   "cell_type": "code",
   "execution_count": 33,
   "id": "1387669b",
   "metadata": {},
   "outputs": [],
   "source": [
    "sneaker=pd.DataFrame({})\n",
    "sneaker['Brand_name']=brand_name[:100]\n",
    "sneaker['P_desc']=product_des[:100]\n",
    "sneaker['Pr_price']=product_price[:100]\n",
    "\n"
   ]
  },
  {
   "cell_type": "code",
   "execution_count": 34,
   "id": "3b7c07c4",
   "metadata": {},
   "outputs": [
    {
     "data": {
      "text/html": [
       "<div>\n",
       "<style scoped>\n",
       "    .dataframe tbody tr th:only-of-type {\n",
       "        vertical-align: middle;\n",
       "    }\n",
       "\n",
       "    .dataframe tbody tr th {\n",
       "        vertical-align: top;\n",
       "    }\n",
       "\n",
       "    .dataframe thead th {\n",
       "        text-align: right;\n",
       "    }\n",
       "</style>\n",
       "<table border=\"1\" class=\"dataframe\">\n",
       "  <thead>\n",
       "    <tr style=\"text-align: right;\">\n",
       "      <th></th>\n",
       "      <th>Brand_name</th>\n",
       "      <th>P_price</th>\n",
       "      <th>Pr_desc</th>\n",
       "    </tr>\n",
       "  </thead>\n",
       "  <tbody>\n",
       "    <tr>\n",
       "      <th>0</th>\n",
       "      <td>MEGPAR</td>\n",
       "      <td>Trending Stylish Casual Outdoor Sneakers Shoes...</td>\n",
       "      <td>₹449</td>\n",
       "    </tr>\n",
       "    <tr>\n",
       "      <th>1</th>\n",
       "      <td>MEGPAR</td>\n",
       "      <td>Sneakers For Women</td>\n",
       "      <td>₹399</td>\n",
       "    </tr>\n",
       "    <tr>\n",
       "      <th>2</th>\n",
       "      <td>URBANBOX</td>\n",
       "      <td>Sneaker Casual Shoes For Men | Soft Cushion In...</td>\n",
       "      <td>₹299</td>\n",
       "    </tr>\n",
       "    <tr>\n",
       "      <th>3</th>\n",
       "      <td>Deals4you</td>\n",
       "      <td>Casual Sneakers Colour Blocked Shoes For Boys ...</td>\n",
       "      <td>₹399</td>\n",
       "    </tr>\n",
       "    <tr>\n",
       "      <th>4</th>\n",
       "      <td>RED TAPE</td>\n",
       "      <td>Tarzan-03 Black Sneakers,Canvas,Loafers,Stylis...</td>\n",
       "      <td>₹1,619</td>\n",
       "    </tr>\n",
       "    <tr>\n",
       "      <th>...</th>\n",
       "      <td>...</td>\n",
       "      <td>...</td>\n",
       "      <td>...</td>\n",
       "    </tr>\n",
       "    <tr>\n",
       "      <th>95</th>\n",
       "      <td>RED TAPE</td>\n",
       "      <td>Casual Sneaker Shoes for Men | Soft Cushioned ...</td>\n",
       "      <td>₹2,069</td>\n",
       "    </tr>\n",
       "    <tr>\n",
       "      <th>96</th>\n",
       "      <td>MEGPAR</td>\n",
       "      <td>ST Runner v3 Mesh Sneakers For Men</td>\n",
       "      <td>₹449</td>\n",
       "    </tr>\n",
       "    <tr>\n",
       "      <th>97</th>\n",
       "      <td>RUN SEVEN</td>\n",
       "      <td>Casual Sneaker Shoes for Men | Soft Cushioned ...</td>\n",
       "      <td>₹1,129</td>\n",
       "    </tr>\n",
       "    <tr>\n",
       "      <th>98</th>\n",
       "      <td>RED TAPE</td>\n",
       "      <td>EPJL13951 Lightweight Comfort Summer Trendy Pr...</td>\n",
       "      <td>₹1,709</td>\n",
       "    </tr>\n",
       "    <tr>\n",
       "      <th>99</th>\n",
       "      <td>JACKRUNNER</td>\n",
       "      <td>SM-734 Sneakers For Men</td>\n",
       "      <td>₹499</td>\n",
       "    </tr>\n",
       "  </tbody>\n",
       "</table>\n",
       "<p>100 rows × 3 columns</p>\n",
       "</div>"
      ],
      "text/plain": [
       "    Brand_name                                            P_price Pr_desc\n",
       "0       MEGPAR  Trending Stylish Casual Outdoor Sneakers Shoes...    ₹449\n",
       "1       MEGPAR                                 Sneakers For Women    ₹399\n",
       "2     URBANBOX  Sneaker Casual Shoes For Men | Soft Cushion In...    ₹299\n",
       "3    Deals4you  Casual Sneakers Colour Blocked Shoes For Boys ...    ₹399\n",
       "4     RED TAPE  Tarzan-03 Black Sneakers,Canvas,Loafers,Stylis...  ₹1,619\n",
       "..         ...                                                ...     ...\n",
       "95    RED TAPE  Casual Sneaker Shoes for Men | Soft Cushioned ...  ₹2,069\n",
       "96      MEGPAR                 ST Runner v3 Mesh Sneakers For Men    ₹449\n",
       "97   RUN SEVEN  Casual Sneaker Shoes for Men | Soft Cushioned ...  ₹1,129\n",
       "98    RED TAPE  EPJL13951 Lightweight Comfort Summer Trendy Pr...  ₹1,709\n",
       "99  JACKRUNNER                            SM-734 Sneakers For Men    ₹499\n",
       "\n",
       "[100 rows x 3 columns]"
      ]
     },
     "execution_count": 34,
     "metadata": {},
     "output_type": "execute_result"
    }
   ],
   "source": [
    "sneaker"
   ]
  },
  {
   "cell_type": "code",
   "execution_count": null,
   "id": "5cb953c3",
   "metadata": {},
   "outputs": [],
   "source": []
  }
 ],
 "metadata": {
  "kernelspec": {
   "display_name": "Python 3 (ipykernel)",
   "language": "python",
   "name": "python3"
  },
  "language_info": {
   "codemirror_mode": {
    "name": "ipython",
    "version": 3
   },
   "file_extension": ".py",
   "mimetype": "text/x-python",
   "name": "python",
   "nbconvert_exporter": "python",
   "pygments_lexer": "ipython3",
   "version": "3.10.9"
  }
 },
 "nbformat": 4,
 "nbformat_minor": 5
}
