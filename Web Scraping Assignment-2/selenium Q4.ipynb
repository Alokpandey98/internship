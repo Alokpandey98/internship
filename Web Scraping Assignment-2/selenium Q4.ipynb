{
 "cells": [
  {
   "cell_type": "code",
   "execution_count": 37,
   "id": "a889de18",
   "metadata": {},
   "outputs": [
    {
     "name": "stdout",
     "output_type": "stream",
     "text": [
      "Requirement already satisfied: selenium in c:\\users\\alfa\\anaconda3\\lib\\site-packages (4.16.0)\n",
      "Requirement already satisfied: certifi>=2021.10.8 in c:\\users\\alfa\\anaconda3\\lib\\site-packages (from selenium) (2022.12.7)\n",
      "Requirement already satisfied: trio-websocket~=0.9 in c:\\users\\alfa\\anaconda3\\lib\\site-packages (from selenium) (0.11.1)\n",
      "Requirement already satisfied: trio~=0.17 in c:\\users\\alfa\\anaconda3\\lib\\site-packages (from selenium) (0.24.0)\n",
      "Requirement already satisfied: urllib3[socks]<3,>=1.26 in c:\\users\\alfa\\anaconda3\\lib\\site-packages (from selenium) (1.26.14)\n",
      "Requirement already satisfied: exceptiongroup in c:\\users\\alfa\\anaconda3\\lib\\site-packages (from trio~=0.17->selenium) (1.2.0)\n",
      "Requirement already satisfied: attrs>=20.1.0 in c:\\users\\alfa\\anaconda3\\lib\\site-packages (from trio~=0.17->selenium) (22.1.0)\n",
      "Requirement already satisfied: outcome in c:\\users\\alfa\\anaconda3\\lib\\site-packages (from trio~=0.17->selenium) (1.3.0.post0)\n",
      "Requirement already satisfied: sniffio>=1.3.0 in c:\\users\\alfa\\anaconda3\\lib\\site-packages (from trio~=0.17->selenium) (1.3.0)\n",
      "Requirement already satisfied: cffi>=1.14 in c:\\users\\alfa\\anaconda3\\lib\\site-packages (from trio~=0.17->selenium) (1.15.1)\n",
      "Requirement already satisfied: idna in c:\\users\\alfa\\anaconda3\\lib\\site-packages (from trio~=0.17->selenium) (3.4)\n",
      "Requirement already satisfied: sortedcontainers in c:\\users\\alfa\\anaconda3\\lib\\site-packages (from trio~=0.17->selenium) (2.4.0)\n",
      "Requirement already satisfied: wsproto>=0.14 in c:\\users\\alfa\\anaconda3\\lib\\site-packages (from trio-websocket~=0.9->selenium) (1.2.0)\n",
      "Requirement already satisfied: PySocks!=1.5.7,<2.0,>=1.5.6 in c:\\users\\alfa\\anaconda3\\lib\\site-packages (from urllib3[socks]<3,>=1.26->selenium) (1.7.1)\n",
      "Requirement already satisfied: pycparser in c:\\users\\alfa\\anaconda3\\lib\\site-packages (from cffi>=1.14->trio~=0.17->selenium) (2.21)\n",
      "Requirement already satisfied: h11<1,>=0.9.0 in c:\\users\\alfa\\anaconda3\\lib\\site-packages (from wsproto>=0.14->trio-websocket~=0.9->selenium) (0.14.0)\n"
     ]
    }
   ],
   "source": [
    "!pip install selenium"
   ]
  },
  {
   "cell_type": "code",
   "execution_count": 5,
   "id": "3fbbe0f3",
   "metadata": {},
   "outputs": [],
   "source": [
    "import selenium\n",
    "import pandas as pd\n",
    "from selenium import webdriver\n",
    "import warnings\n",
    "warnings.filterwarnings('ignore')\n",
    "from selenium.webdriver.common.by import By\n",
    "import time"
   ]
  },
  {
   "cell_type": "code",
   "execution_count": 6,
   "id": "b99b2424",
   "metadata": {},
   "outputs": [],
   "source": [
    "driver=webdriver.Chrome()"
   ]
  },
  {
   "cell_type": "code",
   "execution_count": 7,
   "id": "0c34e26d",
   "metadata": {},
   "outputs": [],
   "source": [
    "#opening the flipkart.com page  on automated chrome browser\n",
    "driver.get(\"https://www.flipkart.com/\")"
   ]
  },
  {
   "cell_type": "code",
   "execution_count": 8,
   "id": "54125c47",
   "metadata": {},
   "outputs": [],
   "source": [
    "#entering destination  and location as required in question\n",
    "search=driver.find_element(By.CLASS_NAME,\"Pke_EE\")\n",
    "search.send_keys('sunglasses')"
   ]
  },
  {
   "cell_type": "code",
   "execution_count": 9,
   "id": "7fecf6d6",
   "metadata": {},
   "outputs": [
    {
     "ename": "NameError",
     "evalue": "name 'search_button' is not defined",
     "output_type": "error",
     "traceback": [
      "\u001b[1;31m---------------------------------------------------------------------------\u001b[0m",
      "\u001b[1;31mNameError\u001b[0m                                 Traceback (most recent call last)",
      "Cell \u001b[1;32mIn[9], line 2\u001b[0m\n\u001b[0;32m      1\u001b[0m search\u001b[38;5;241m=\u001b[39mdriver\u001b[38;5;241m.\u001b[39mfind_element(By\u001b[38;5;241m.\u001b[39mCLASS_NAME,\u001b[38;5;124m\"\u001b[39m\u001b[38;5;124m_2iLD__\u001b[39m\u001b[38;5;124m\"\u001b[39m)\n\u001b[1;32m----> 2\u001b[0m \u001b[43msearch_button\u001b[49m\u001b[38;5;241m.\u001b[39mclick()\n",
      "\u001b[1;31mNameError\u001b[0m: name 'search_button' is not defined"
     ]
    }
   ],
   "source": [
    "search_button=driver.find_element(By.CLASS_NAME,\"_2iLD__\")\n",
    "search_button.click()"
   ]
  },
  {
   "cell_type": "code",
   "execution_count": 20,
   "id": "373575cd",
   "metadata": {},
   "outputs": [],
   "source": [
    "brand_name=[]\n",
    "product_des=[]\n",
    "product_price=[]\n"
   ]
  },
  {
   "cell_type": "code",
   "execution_count": 79,
   "id": "a582cab6",
   "metadata": {},
   "outputs": [],
   "source": [
    "\n",
    "#scraping brand name\n",
    "brand_tag=driver.find_elements(By.XPATH,'//div[@class=\"_2WkVRV\"]')\n",
    "for i in brand_tag:\n",
    "    brand=i.text\n",
    "    brand_name.append(brand) \n",
    "    \n",
    "    \n",
    "#scrape product description\n",
    "product_tag=driver.find_elements(By.XPATH,'//a[@class=\"IRpwTa\"]') \n",
    "for i in product_tag:\n",
    "    product=i.text\n",
    "    product_des.append(product) \n",
    "    \n",
    "    \n",
    "#scrape product price\n",
    "price_tag=driver.find_elements(By.XPATH,'//div[@class=\"_30jeq3\"]')\n",
    "for i in price_tag:\n",
    "    price=i.text\n",
    "    product_price.append(price) \n",
    "    \n",
    "    \n",
    "\n",
    "\n",
    "    "
   ]
  },
  {
   "cell_type": "code",
   "execution_count": 80,
   "id": "3845484a",
   "metadata": {},
   "outputs": [
    {
     "name": "stdout",
     "output_type": "stream",
     "text": [
      "40 37 40\n"
     ]
    }
   ],
   "source": [
    "print(len(brand_name),len(product_des),len(product_price))"
   ]
  },
  {
   "cell_type": "code",
   "execution_count": 81,
   "id": "4b783c32",
   "metadata": {},
   "outputs": [],
   "source": [
    "import pandas as pd"
   ]
  },
  {
   "cell_type": "code",
   "execution_count": 100,
   "id": "36348b9f",
   "metadata": {},
   "outputs": [
    {
     "data": {
      "text/plain": [
       "pandas.core.frame.DataFrame"
      ]
     },
     "execution_count": 100,
     "metadata": {},
     "output_type": "execute_result"
    }
   ],
   "source": []
  },
  {
   "cell_type": "code",
   "execution_count": 25,
   "id": "863a6e5a",
   "metadata": {},
   "outputs": [],
   "source": [
    "for i in range(3):   \n",
    "\n",
    "    brand_tag=driver.find_elements(By.XPATH,'//div[@class=\"_2WkVRV\"]')\n",
    "for i in brand_tag:\n",
    "    brand=i.text\n",
    "    brand_name.append(brand)\n",
    "    brand_name[:100]\n",
    "    \n",
    "    \n",
    "        \n",
    "#scrape product description\n",
    "product_tag=driver.find_elements(By.XPATH,'//a[@class=\"IRpwTa\"]') \n",
    "for i in product_tag:\n",
    "    product=i.text\n",
    "    product_des.append(product) \n",
    "    product_des[:100]\n",
    "    \n",
    "    \n",
    "#scrape product price\n",
    "price_tag=driver.find_elements(By.XPATH,'//div[@class=\"_30jeq3\"]')\n",
    "for i in price_tag:\n",
    "    price=i.text\n",
    "    product_price.append(price)\n",
    "    product_price[:100]\n",
    "    \n"
   ]
  },
  {
   "cell_type": "code",
   "execution_count": 26,
   "id": "91dd4e1e",
   "metadata": {},
   "outputs": [],
   "source": [
    "import pandas as pd"
   ]
  },
  {
   "cell_type": "code",
   "execution_count": 27,
   "id": "d335a41c",
   "metadata": {},
   "outputs": [
    {
     "ename": "ValueError",
     "evalue": "Length of values (78) does not match length of index (80)",
     "output_type": "error",
     "traceback": [
      "\u001b[1;31m---------------------------------------------------------------------------\u001b[0m",
      "\u001b[1;31mValueError\u001b[0m                                Traceback (most recent call last)",
      "Cell \u001b[1;32mIn[27], line 3\u001b[0m\n\u001b[0;32m      1\u001b[0m sun_gl\u001b[38;5;241m=\u001b[39mpd\u001b[38;5;241m.\u001b[39mDataFrame({})\n\u001b[0;32m      2\u001b[0m sun_gl[\u001b[38;5;124m'\u001b[39m\u001b[38;5;124mBrand_name\u001b[39m\u001b[38;5;124m'\u001b[39m]\u001b[38;5;241m=\u001b[39mbrand_name[:\u001b[38;5;241m100\u001b[39m]\n\u001b[1;32m----> 3\u001b[0m sun_gl[\u001b[38;5;124m'\u001b[39m\u001b[38;5;124mP_desc\u001b[39m\u001b[38;5;124m'\u001b[39m]\u001b[38;5;241m=\u001b[39mproduct_des[:\u001b[38;5;241m100\u001b[39m]\n\u001b[0;32m      4\u001b[0m sun_gl[\u001b[38;5;124m'\u001b[39m\u001b[38;5;124mPr_price\u001b[39m\u001b[38;5;124m'\u001b[39m]\u001b[38;5;241m=\u001b[39mproduct_price[:\u001b[38;5;241m100\u001b[39m]\n",
      "File \u001b[1;32m~\\anaconda3\\lib\\site-packages\\pandas\\core\\frame.py:3980\u001b[0m, in \u001b[0;36mDataFrame.__setitem__\u001b[1;34m(self, key, value)\u001b[0m\n\u001b[0;32m   3977\u001b[0m     \u001b[38;5;28mself\u001b[39m\u001b[38;5;241m.\u001b[39m_setitem_array([key], value)\n\u001b[0;32m   3978\u001b[0m \u001b[38;5;28;01melse\u001b[39;00m:\n\u001b[0;32m   3979\u001b[0m     \u001b[38;5;66;03m# set column\u001b[39;00m\n\u001b[1;32m-> 3980\u001b[0m     \u001b[38;5;28;43mself\u001b[39;49m\u001b[38;5;241;43m.\u001b[39;49m\u001b[43m_set_item\u001b[49m\u001b[43m(\u001b[49m\u001b[43mkey\u001b[49m\u001b[43m,\u001b[49m\u001b[43m \u001b[49m\u001b[43mvalue\u001b[49m\u001b[43m)\u001b[49m\n",
      "File \u001b[1;32m~\\anaconda3\\lib\\site-packages\\pandas\\core\\frame.py:4174\u001b[0m, in \u001b[0;36mDataFrame._set_item\u001b[1;34m(self, key, value)\u001b[0m\n\u001b[0;32m   4164\u001b[0m \u001b[38;5;28;01mdef\u001b[39;00m \u001b[38;5;21m_set_item\u001b[39m(\u001b[38;5;28mself\u001b[39m, key, value) \u001b[38;5;241m-\u001b[39m\u001b[38;5;241m>\u001b[39m \u001b[38;5;28;01mNone\u001b[39;00m:\n\u001b[0;32m   4165\u001b[0m     \u001b[38;5;124;03m\"\"\"\u001b[39;00m\n\u001b[0;32m   4166\u001b[0m \u001b[38;5;124;03m    Add series to DataFrame in specified column.\u001b[39;00m\n\u001b[0;32m   4167\u001b[0m \n\u001b[1;32m   (...)\u001b[0m\n\u001b[0;32m   4172\u001b[0m \u001b[38;5;124;03m    ensure homogeneity.\u001b[39;00m\n\u001b[0;32m   4173\u001b[0m \u001b[38;5;124;03m    \"\"\"\u001b[39;00m\n\u001b[1;32m-> 4174\u001b[0m     value \u001b[38;5;241m=\u001b[39m \u001b[38;5;28;43mself\u001b[39;49m\u001b[38;5;241;43m.\u001b[39;49m\u001b[43m_sanitize_column\u001b[49m\u001b[43m(\u001b[49m\u001b[43mvalue\u001b[49m\u001b[43m)\u001b[49m\n\u001b[0;32m   4176\u001b[0m     \u001b[38;5;28;01mif\u001b[39;00m (\n\u001b[0;32m   4177\u001b[0m         key \u001b[38;5;129;01min\u001b[39;00m \u001b[38;5;28mself\u001b[39m\u001b[38;5;241m.\u001b[39mcolumns\n\u001b[0;32m   4178\u001b[0m         \u001b[38;5;129;01mand\u001b[39;00m value\u001b[38;5;241m.\u001b[39mndim \u001b[38;5;241m==\u001b[39m \u001b[38;5;241m1\u001b[39m\n\u001b[0;32m   4179\u001b[0m         \u001b[38;5;129;01mand\u001b[39;00m \u001b[38;5;129;01mnot\u001b[39;00m is_extension_array_dtype(value)\n\u001b[0;32m   4180\u001b[0m     ):\n\u001b[0;32m   4181\u001b[0m         \u001b[38;5;66;03m# broadcast across multiple columns if necessary\u001b[39;00m\n\u001b[0;32m   4182\u001b[0m         \u001b[38;5;28;01mif\u001b[39;00m \u001b[38;5;129;01mnot\u001b[39;00m \u001b[38;5;28mself\u001b[39m\u001b[38;5;241m.\u001b[39mcolumns\u001b[38;5;241m.\u001b[39mis_unique \u001b[38;5;129;01mor\u001b[39;00m \u001b[38;5;28misinstance\u001b[39m(\u001b[38;5;28mself\u001b[39m\u001b[38;5;241m.\u001b[39mcolumns, MultiIndex):\n",
      "File \u001b[1;32m~\\anaconda3\\lib\\site-packages\\pandas\\core\\frame.py:4915\u001b[0m, in \u001b[0;36mDataFrame._sanitize_column\u001b[1;34m(self, value)\u001b[0m\n\u001b[0;32m   4912\u001b[0m     \u001b[38;5;28;01mreturn\u001b[39;00m _reindex_for_setitem(Series(value), \u001b[38;5;28mself\u001b[39m\u001b[38;5;241m.\u001b[39mindex)\n\u001b[0;32m   4914\u001b[0m \u001b[38;5;28;01mif\u001b[39;00m is_list_like(value):\n\u001b[1;32m-> 4915\u001b[0m     \u001b[43mcom\u001b[49m\u001b[38;5;241;43m.\u001b[39;49m\u001b[43mrequire_length_match\u001b[49m\u001b[43m(\u001b[49m\u001b[43mvalue\u001b[49m\u001b[43m,\u001b[49m\u001b[43m \u001b[49m\u001b[38;5;28;43mself\u001b[39;49m\u001b[38;5;241;43m.\u001b[39;49m\u001b[43mindex\u001b[49m\u001b[43m)\u001b[49m\n\u001b[0;32m   4916\u001b[0m \u001b[38;5;28;01mreturn\u001b[39;00m sanitize_array(value, \u001b[38;5;28mself\u001b[39m\u001b[38;5;241m.\u001b[39mindex, copy\u001b[38;5;241m=\u001b[39m\u001b[38;5;28;01mTrue\u001b[39;00m, allow_2d\u001b[38;5;241m=\u001b[39m\u001b[38;5;28;01mTrue\u001b[39;00m)\n",
      "File \u001b[1;32m~\\anaconda3\\lib\\site-packages\\pandas\\core\\common.py:571\u001b[0m, in \u001b[0;36mrequire_length_match\u001b[1;34m(data, index)\u001b[0m\n\u001b[0;32m    567\u001b[0m \u001b[38;5;124;03m\"\"\"\u001b[39;00m\n\u001b[0;32m    568\u001b[0m \u001b[38;5;124;03mCheck the length of data matches the length of the index.\u001b[39;00m\n\u001b[0;32m    569\u001b[0m \u001b[38;5;124;03m\"\"\"\u001b[39;00m\n\u001b[0;32m    570\u001b[0m \u001b[38;5;28;01mif\u001b[39;00m \u001b[38;5;28mlen\u001b[39m(data) \u001b[38;5;241m!=\u001b[39m \u001b[38;5;28mlen\u001b[39m(index):\n\u001b[1;32m--> 571\u001b[0m     \u001b[38;5;28;01mraise\u001b[39;00m \u001b[38;5;167;01mValueError\u001b[39;00m(\n\u001b[0;32m    572\u001b[0m         \u001b[38;5;124m\"\u001b[39m\u001b[38;5;124mLength of values \u001b[39m\u001b[38;5;124m\"\u001b[39m\n\u001b[0;32m    573\u001b[0m         \u001b[38;5;124mf\u001b[39m\u001b[38;5;124m\"\u001b[39m\u001b[38;5;124m(\u001b[39m\u001b[38;5;132;01m{\u001b[39;00m\u001b[38;5;28mlen\u001b[39m(data)\u001b[38;5;132;01m}\u001b[39;00m\u001b[38;5;124m) \u001b[39m\u001b[38;5;124m\"\u001b[39m\n\u001b[0;32m    574\u001b[0m         \u001b[38;5;124m\"\u001b[39m\u001b[38;5;124mdoes not match length of index \u001b[39m\u001b[38;5;124m\"\u001b[39m\n\u001b[0;32m    575\u001b[0m         \u001b[38;5;124mf\u001b[39m\u001b[38;5;124m\"\u001b[39m\u001b[38;5;124m(\u001b[39m\u001b[38;5;132;01m{\u001b[39;00m\u001b[38;5;28mlen\u001b[39m(index)\u001b[38;5;132;01m}\u001b[39;00m\u001b[38;5;124m)\u001b[39m\u001b[38;5;124m\"\u001b[39m\n\u001b[0;32m    576\u001b[0m     )\n",
      "\u001b[1;31mValueError\u001b[0m: Length of values (78) does not match length of index (80)"
     ]
    }
   ],
   "source": [
    "sun_gl=pd.DataFrame({})\n",
    "sun_gl['Brand_name']=brand_name[:100]\n",
    "sun_gl['P_desc']=product_des[:100]\n",
    "sun_gl['Pr_price']=product_price[:100]\n"
   ]
  },
  {
   "cell_type": "code",
   "execution_count": 28,
   "id": "44d8b3b5",
   "metadata": {},
   "outputs": [
    {
     "data": {
      "text/html": [
       "<div>\n",
       "<style scoped>\n",
       "    .dataframe tbody tr th:only-of-type {\n",
       "        vertical-align: middle;\n",
       "    }\n",
       "\n",
       "    .dataframe tbody tr th {\n",
       "        vertical-align: top;\n",
       "    }\n",
       "\n",
       "    .dataframe thead th {\n",
       "        text-align: right;\n",
       "    }\n",
       "</style>\n",
       "<table border=\"1\" class=\"dataframe\">\n",
       "  <thead>\n",
       "    <tr style=\"text-align: right;\">\n",
       "      <th></th>\n",
       "      <th>Brand_name</th>\n",
       "    </tr>\n",
       "  </thead>\n",
       "  <tbody>\n",
       "    <tr>\n",
       "      <th>0</th>\n",
       "      <td>VOYAGE</td>\n",
       "    </tr>\n",
       "    <tr>\n",
       "      <th>1</th>\n",
       "      <td>Hooper</td>\n",
       "    </tr>\n",
       "    <tr>\n",
       "      <th>2</th>\n",
       "      <td>SRPM</td>\n",
       "    </tr>\n",
       "    <tr>\n",
       "      <th>3</th>\n",
       "      <td>Elligator</td>\n",
       "    </tr>\n",
       "    <tr>\n",
       "      <th>4</th>\n",
       "      <td>Fastrack</td>\n",
       "    </tr>\n",
       "    <tr>\n",
       "      <th>...</th>\n",
       "      <td>...</td>\n",
       "    </tr>\n",
       "    <tr>\n",
       "      <th>75</th>\n",
       "      <td>Rich Club</td>\n",
       "    </tr>\n",
       "    <tr>\n",
       "      <th>76</th>\n",
       "      <td>PROVOGUE</td>\n",
       "    </tr>\n",
       "    <tr>\n",
       "      <th>77</th>\n",
       "      <td>ROYAL SON</td>\n",
       "    </tr>\n",
       "    <tr>\n",
       "      <th>78</th>\n",
       "      <td>Fastrack</td>\n",
       "    </tr>\n",
       "    <tr>\n",
       "      <th>79</th>\n",
       "      <td>Elligator</td>\n",
       "    </tr>\n",
       "  </tbody>\n",
       "</table>\n",
       "<p>80 rows × 1 columns</p>\n",
       "</div>"
      ],
      "text/plain": [
       "   Brand_name\n",
       "0      VOYAGE\n",
       "1      Hooper\n",
       "2        SRPM\n",
       "3   Elligator\n",
       "4    Fastrack\n",
       "..        ...\n",
       "75  Rich Club\n",
       "76   PROVOGUE\n",
       "77  ROYAL SON\n",
       "78   Fastrack\n",
       "79  Elligator\n",
       "\n",
       "[80 rows x 1 columns]"
      ]
     },
     "execution_count": 28,
     "metadata": {},
     "output_type": "execute_result"
    }
   ],
   "source": [
    "sun_gl"
   ]
  },
  {
   "cell_type": "code",
   "execution_count": 94,
   "id": "dc906e98",
   "metadata": {},
   "outputs": [
    {
     "data": {
      "text/plain": [
       "[<selenium.webdriver.remote.webelement.WebElement (session=\"25128c3c335ea6898c8339538100bfbe\", element=\"5874ED637B07AFDA8C948F614F9F7CCE_element_616\")>,\n",
       " <selenium.webdriver.remote.webelement.WebElement (session=\"25128c3c335ea6898c8339538100bfbe\", element=\"5874ED637B07AFDA8C948F614F9F7CCE_element_617\")>,\n",
       " <selenium.webdriver.remote.webelement.WebElement (session=\"25128c3c335ea6898c8339538100bfbe\", element=\"5874ED637B07AFDA8C948F614F9F7CCE_element_618\")>,\n",
       " <selenium.webdriver.remote.webelement.WebElement (session=\"25128c3c335ea6898c8339538100bfbe\", element=\"5874ED637B07AFDA8C948F614F9F7CCE_element_619\")>,\n",
       " <selenium.webdriver.remote.webelement.WebElement (session=\"25128c3c335ea6898c8339538100bfbe\", element=\"5874ED637B07AFDA8C948F614F9F7CCE_element_620\")>,\n",
       " <selenium.webdriver.remote.webelement.WebElement (session=\"25128c3c335ea6898c8339538100bfbe\", element=\"5874ED637B07AFDA8C948F614F9F7CCE_element_621\")>,\n",
       " <selenium.webdriver.remote.webelement.WebElement (session=\"25128c3c335ea6898c8339538100bfbe\", element=\"5874ED637B07AFDA8C948F614F9F7CCE_element_622\")>,\n",
       " <selenium.webdriver.remote.webelement.WebElement (session=\"25128c3c335ea6898c8339538100bfbe\", element=\"5874ED637B07AFDA8C948F614F9F7CCE_element_623\")>,\n",
       " <selenium.webdriver.remote.webelement.WebElement (session=\"25128c3c335ea6898c8339538100bfbe\", element=\"5874ED637B07AFDA8C948F614F9F7CCE_element_624\")>,\n",
       " <selenium.webdriver.remote.webelement.WebElement (session=\"25128c3c335ea6898c8339538100bfbe\", element=\"5874ED637B07AFDA8C948F614F9F7CCE_element_625\")>,\n",
       " <selenium.webdriver.remote.webelement.WebElement (session=\"25128c3c335ea6898c8339538100bfbe\", element=\"5874ED637B07AFDA8C948F614F9F7CCE_element_626\")>,\n",
       " <selenium.webdriver.remote.webelement.WebElement (session=\"25128c3c335ea6898c8339538100bfbe\", element=\"5874ED637B07AFDA8C948F614F9F7CCE_element_627\")>,\n",
       " <selenium.webdriver.remote.webelement.WebElement (session=\"25128c3c335ea6898c8339538100bfbe\", element=\"5874ED637B07AFDA8C948F614F9F7CCE_element_628\")>,\n",
       " <selenium.webdriver.remote.webelement.WebElement (session=\"25128c3c335ea6898c8339538100bfbe\", element=\"5874ED637B07AFDA8C948F614F9F7CCE_element_629\")>,\n",
       " <selenium.webdriver.remote.webelement.WebElement (session=\"25128c3c335ea6898c8339538100bfbe\", element=\"5874ED637B07AFDA8C948F614F9F7CCE_element_630\")>,\n",
       " <selenium.webdriver.remote.webelement.WebElement (session=\"25128c3c335ea6898c8339538100bfbe\", element=\"5874ED637B07AFDA8C948F614F9F7CCE_element_631\")>,\n",
       " <selenium.webdriver.remote.webelement.WebElement (session=\"25128c3c335ea6898c8339538100bfbe\", element=\"5874ED637B07AFDA8C948F614F9F7CCE_element_632\")>,\n",
       " <selenium.webdriver.remote.webelement.WebElement (session=\"25128c3c335ea6898c8339538100bfbe\", element=\"5874ED637B07AFDA8C948F614F9F7CCE_element_633\")>,\n",
       " <selenium.webdriver.remote.webelement.WebElement (session=\"25128c3c335ea6898c8339538100bfbe\", element=\"5874ED637B07AFDA8C948F614F9F7CCE_element_634\")>,\n",
       " <selenium.webdriver.remote.webelement.WebElement (session=\"25128c3c335ea6898c8339538100bfbe\", element=\"5874ED637B07AFDA8C948F614F9F7CCE_element_635\")>,\n",
       " <selenium.webdriver.remote.webelement.WebElement (session=\"25128c3c335ea6898c8339538100bfbe\", element=\"5874ED637B07AFDA8C948F614F9F7CCE_element_636\")>,\n",
       " <selenium.webdriver.remote.webelement.WebElement (session=\"25128c3c335ea6898c8339538100bfbe\", element=\"5874ED637B07AFDA8C948F614F9F7CCE_element_637\")>,\n",
       " <selenium.webdriver.remote.webelement.WebElement (session=\"25128c3c335ea6898c8339538100bfbe\", element=\"5874ED637B07AFDA8C948F614F9F7CCE_element_638\")>,\n",
       " <selenium.webdriver.remote.webelement.WebElement (session=\"25128c3c335ea6898c8339538100bfbe\", element=\"5874ED637B07AFDA8C948F614F9F7CCE_element_639\")>,\n",
       " <selenium.webdriver.remote.webelement.WebElement (session=\"25128c3c335ea6898c8339538100bfbe\", element=\"5874ED637B07AFDA8C948F614F9F7CCE_element_640\")>,\n",
       " <selenium.webdriver.remote.webelement.WebElement (session=\"25128c3c335ea6898c8339538100bfbe\", element=\"5874ED637B07AFDA8C948F614F9F7CCE_element_641\")>,\n",
       " <selenium.webdriver.remote.webelement.WebElement (session=\"25128c3c335ea6898c8339538100bfbe\", element=\"5874ED637B07AFDA8C948F614F9F7CCE_element_642\")>,\n",
       " <selenium.webdriver.remote.webelement.WebElement (session=\"25128c3c335ea6898c8339538100bfbe\", element=\"5874ED637B07AFDA8C948F614F9F7CCE_element_643\")>,\n",
       " <selenium.webdriver.remote.webelement.WebElement (session=\"25128c3c335ea6898c8339538100bfbe\", element=\"5874ED637B07AFDA8C948F614F9F7CCE_element_644\")>,\n",
       " <selenium.webdriver.remote.webelement.WebElement (session=\"25128c3c335ea6898c8339538100bfbe\", element=\"5874ED637B07AFDA8C948F614F9F7CCE_element_645\")>,\n",
       " <selenium.webdriver.remote.webelement.WebElement (session=\"25128c3c335ea6898c8339538100bfbe\", element=\"5874ED637B07AFDA8C948F614F9F7CCE_element_646\")>,\n",
       " <selenium.webdriver.remote.webelement.WebElement (session=\"25128c3c335ea6898c8339538100bfbe\", element=\"5874ED637B07AFDA8C948F614F9F7CCE_element_647\")>,\n",
       " <selenium.webdriver.remote.webelement.WebElement (session=\"25128c3c335ea6898c8339538100bfbe\", element=\"5874ED637B07AFDA8C948F614F9F7CCE_element_648\")>,\n",
       " <selenium.webdriver.remote.webelement.WebElement (session=\"25128c3c335ea6898c8339538100bfbe\", element=\"5874ED637B07AFDA8C948F614F9F7CCE_element_649\")>,\n",
       " <selenium.webdriver.remote.webelement.WebElement (session=\"25128c3c335ea6898c8339538100bfbe\", element=\"5874ED637B07AFDA8C948F614F9F7CCE_element_650\")>,\n",
       " <selenium.webdriver.remote.webelement.WebElement (session=\"25128c3c335ea6898c8339538100bfbe\", element=\"5874ED637B07AFDA8C948F614F9F7CCE_element_651\")>,\n",
       " <selenium.webdriver.remote.webelement.WebElement (session=\"25128c3c335ea6898c8339538100bfbe\", element=\"5874ED637B07AFDA8C948F614F9F7CCE_element_652\")>,\n",
       " <selenium.webdriver.remote.webelement.WebElement (session=\"25128c3c335ea6898c8339538100bfbe\", element=\"5874ED637B07AFDA8C948F614F9F7CCE_element_653\")>,\n",
       " <selenium.webdriver.remote.webelement.WebElement (session=\"25128c3c335ea6898c8339538100bfbe\", element=\"5874ED637B07AFDA8C948F614F9F7CCE_element_654\")>,\n",
       " <selenium.webdriver.remote.webelement.WebElement (session=\"25128c3c335ea6898c8339538100bfbe\", element=\"5874ED637B07AFDA8C948F614F9F7CCE_element_655\")>]"
      ]
     },
     "execution_count": 94,
     "metadata": {},
     "output_type": "execute_result"
    }
   ],
   "source": [
    "brand_tag"
   ]
  },
  {
   "cell_type": "code",
   "execution_count": null,
   "id": "4da292d2",
   "metadata": {},
   "outputs": [],
   "source": []
  },
  {
   "cell_type": "code",
   "execution_count": 95,
   "id": "9251b8ab",
   "metadata": {},
   "outputs": [
    {
     "name": "stdout",
     "output_type": "stream",
     "text": [
      "40\n"
     ]
    }
   ],
   "source": [
    "print(len(brand_name))"
   ]
  },
  {
   "cell_type": "code",
   "execution_count": null,
   "id": "f313cf88",
   "metadata": {},
   "outputs": [],
   "source": []
  }
 ],
 "metadata": {
  "kernelspec": {
   "display_name": "Python 3 (ipykernel)",
   "language": "python",
   "name": "python3"
  },
  "language_info": {
   "codemirror_mode": {
    "name": "ipython",
    "version": 3
   },
   "file_extension": ".py",
   "mimetype": "text/x-python",
   "name": "python",
   "nbconvert_exporter": "python",
   "pygments_lexer": "ipython3",
   "version": "3.10.9"
  }
 },
 "nbformat": 4,
 "nbformat_minor": 5
}
